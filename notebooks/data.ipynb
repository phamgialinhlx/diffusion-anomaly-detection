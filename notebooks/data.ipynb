{
 "cells": [
  {
   "cell_type": "code",
   "execution_count": 2,
   "metadata": {},
   "outputs": [
    {
     "name": "stdout",
     "output_type": "stream",
     "text": [
      "/home/epicpants/workspace/nckh/diffusion-anomaly\n"
     ]
    }
   ],
   "source": [
    "%cd .."
   ]
  },
  {
   "cell_type": "code",
   "execution_count": 3,
   "metadata": {},
   "outputs": [
    {
     "data": {
      "text/plain": [
       "'/home/epicpants/workspace/nckh/diffusion-anomaly'"
      ]
     },
     "execution_count": 3,
     "metadata": {},
     "output_type": "execute_result"
    }
   ],
   "source": [
    "%pwd"
   ]
  },
  {
   "cell_type": "code",
   "execution_count": 4,
   "metadata": {},
   "outputs": [],
   "source": [
    "import numpy as np\n",
    "import pandas as pd\n",
    "from torch.utils.data import DataLoader, Dataset"
   ]
  },
  {
   "cell_type": "code",
   "execution_count": 8,
   "metadata": {},
   "outputs": [
    {
     "data": {
      "text/html": [
       "<div>\n",
       "<style scoped>\n",
       "    .dataframe tbody tr th:only-of-type {\n",
       "        vertical-align: middle;\n",
       "    }\n",
       "\n",
       "    .dataframe tbody tr th {\n",
       "        vertical-align: top;\n",
       "    }\n",
       "\n",
       "    .dataframe thead th {\n",
       "        text-align: right;\n",
       "    }\n",
       "</style>\n",
       "<table border=\"1\" class=\"dataframe\">\n",
       "  <thead>\n",
       "    <tr style=\"text-align: right;\">\n",
       "      <th></th>\n",
       "      <th>0</th>\n",
       "      <th>1</th>\n",
       "      <th>2</th>\n",
       "    </tr>\n",
       "  </thead>\n",
       "  <tbody>\n",
       "    <tr>\n",
       "      <th>0</th>\n",
       "      <td>data/chexpert/training/diseased/patient00122_s...</td>\n",
       "      <td>data/chexpert/training/diseased/patient00122_s...</td>\n",
       "      <td>0</td>\n",
       "    </tr>\n",
       "    <tr>\n",
       "      <th>1</th>\n",
       "      <td>data/chexpert/training/diseased/patient00124_s...</td>\n",
       "      <td>data/chexpert/training/diseased/patient00124_s...</td>\n",
       "      <td>0</td>\n",
       "    </tr>\n",
       "    <tr>\n",
       "      <th>2</th>\n",
       "      <td>data/chexpert/training/diseased/patient00128_s...</td>\n",
       "      <td>data/chexpert/training/diseased/patient00128_s...</td>\n",
       "      <td>0</td>\n",
       "    </tr>\n",
       "    <tr>\n",
       "      <th>3</th>\n",
       "      <td>data/chexpert/training/healthy/patient00485_st...</td>\n",
       "      <td>data/chexpert/training/healthy/patient00485_st...</td>\n",
       "      <td>1</td>\n",
       "    </tr>\n",
       "    <tr>\n",
       "      <th>4</th>\n",
       "      <td>data/chexpert/training/healthy/patient00486_st...</td>\n",
       "      <td>data/chexpert/training/healthy/patient00486_st...</td>\n",
       "      <td>1</td>\n",
       "    </tr>\n",
       "    <tr>\n",
       "      <th>5</th>\n",
       "      <td>data/chexpert/training/healthy/patient00488_st...</td>\n",
       "      <td>data/chexpert/training/healthy/patient00488_st...</td>\n",
       "      <td>1</td>\n",
       "    </tr>\n",
       "  </tbody>\n",
       "</table>\n",
       "</div>"
      ],
      "text/plain": [
       "                                                   0  \\\n",
       "0  data/chexpert/training/diseased/patient00122_s...   \n",
       "1  data/chexpert/training/diseased/patient00124_s...   \n",
       "2  data/chexpert/training/diseased/patient00128_s...   \n",
       "3  data/chexpert/training/healthy/patient00485_st...   \n",
       "4  data/chexpert/training/healthy/patient00486_st...   \n",
       "5  data/chexpert/training/healthy/patient00488_st...   \n",
       "\n",
       "                                                   1  2  \n",
       "0  data/chexpert/training/diseased/patient00122_s...  0  \n",
       "1  data/chexpert/training/diseased/patient00124_s...  0  \n",
       "2  data/chexpert/training/diseased/patient00128_s...  0  \n",
       "3  data/chexpert/training/healthy/patient00485_st...  1  \n",
       "4  data/chexpert/training/healthy/patient00486_st...  1  \n",
       "5  data/chexpert/training/healthy/patient00488_st...  1  "
      ]
     },
     "execution_count": 8,
     "metadata": {},
     "output_type": "execute_result"
    }
   ],
   "source": [
    "df = pd.read_csv('./data/chexpert.csv', header=None)\n",
    "df"
   ]
  },
  {
   "cell_type": "code",
   "execution_count": 10,
   "metadata": {},
   "outputs": [
    {
     "data": {
      "text/plain": [
       "['data/chexpert/training/diseased/patient00122_study6.npy',\n",
       " 'data/chexpert/training/diseased/patient00124_study2.npy',\n",
       " 'data/chexpert/training/diseased/patient00128_study3.npy',\n",
       " 'data/chexpert/training/healthy/patient00485_study2.npy',\n",
       " 'data/chexpert/training/healthy/patient00486_study1.npy',\n",
       " 'data/chexpert/training/healthy/patient00488_study1.npy']"
      ]
     },
     "execution_count": 10,
     "metadata": {},
     "output_type": "execute_result"
    }
   ],
   "source": [
    "df[0].tolist()"
   ]
  },
  {
   "cell_type": "code",
   "execution_count": 13,
   "metadata": {},
   "outputs": [
    {
     "data": {
      "text/plain": [
       "['diseased', 'diseased', 'diseased', 'healthy', 'healthy', 'healthy']"
      ]
     },
     "execution_count": 13,
     "metadata": {},
     "output_type": "execute_result"
    }
   ],
   "source": [
    "['diseased' if c==0 else 'healthy' for c in df[2].tolist()]"
   ]
  }
 ],
 "metadata": {
  "kernelspec": {
   "display_name": "Python 3 (ipykernel)",
   "language": "python",
   "name": "python3"
  },
  "language_info": {
   "codemirror_mode": {
    "name": "ipython",
    "version": 3
   },
   "file_extension": ".py",
   "mimetype": "text/x-python",
   "name": "python",
   "nbconvert_exporter": "python",
   "pygments_lexer": "ipython3",
   "version": "3.8.10"
  },
  "orig_nbformat": 4,
  "vscode": {
   "interpreter": {
    "hash": "bba113cacfffb349c25b227d2e710d671d6a322f611381454556c19ea46d5b9b"
   }
  }
 },
 "nbformat": 4,
 "nbformat_minor": 2
}
